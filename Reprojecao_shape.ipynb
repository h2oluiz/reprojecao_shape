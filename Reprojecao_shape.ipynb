{
 "metadata": {
  "name": "",
  "signature": "sha256:943a9a5c2bf6009966ab67a8399f97335550a0cf3c92fbe076ea4a6c37e5f0fc"
 },
 "nbformat": 3,
 "nbformat_minor": 0,
 "worksheets": [
  {
   "cells": [
    {
     "cell_type": "code",
     "collapsed": false,
     "input": [
      "import os\n",
      "from osgeo import ogr, osr"
     ],
     "language": "python",
     "metadata": {},
     "outputs": [],
     "prompt_number": 1
    },
    {
     "cell_type": "code",
     "collapsed": false,
     "input": [
      "driver = ogr.GetDriverByName('ESRI Shapefile')\n",
      "dataset = driver.Open(r'/home/luiz/Teste/ucstodas.shp')"
     ],
     "language": "python",
     "metadata": {},
     "outputs": [],
     "prompt_number": 2
    },
    {
     "cell_type": "code",
     "collapsed": false,
     "input": [
      "# from Layer\n",
      "layer = dataset.GetLayer()\n",
      "spatialRef = layer.GetSpatialRef()"
     ],
     "language": "python",
     "metadata": {},
     "outputs": [],
     "prompt_number": 3
    },
    {
     "cell_type": "code",
     "collapsed": false,
     "input": [
      "# from Geometry\n",
      "feature = layer.GetNextFeature()\n",
      "geom = feature.GetGeometryRef()\n",
      "spatialRef = geom.GetSpatialReference()"
     ],
     "language": "python",
     "metadata": {},
     "outputs": [],
     "prompt_number": 4
    },
    {
     "cell_type": "code",
     "collapsed": false,
     "input": [
      "print spatialRef"
     ],
     "language": "python",
     "metadata": {},
     "outputs": [
      {
       "output_type": "stream",
       "stream": "stdout",
       "text": [
        "None\n"
       ]
      }
     ],
     "prompt_number": 5
    },
    {
     "cell_type": "code",
     "collapsed": false,
     "input": [
      "# come\u00e7ando a reprojetar "
     ],
     "language": "python",
     "metadata": {},
     "outputs": [],
     "prompt_number": 6
    },
    {
     "cell_type": "code",
     "collapsed": false,
     "input": [
      "inSpatialRef = osr.SpatialReference()\n",
      "inSpatialRef.ImportFromEPSG(4326)"
     ],
     "language": "python",
     "metadata": {},
     "outputs": [
      {
       "metadata": {},
       "output_type": "pyout",
       "prompt_number": 7,
       "text": [
        "0"
       ]
      }
     ],
     "prompt_number": 7
    },
    {
     "cell_type": "code",
     "collapsed": false,
     "input": [
      "# output SpatialReference\n",
      "outSpatialRef = osr.SpatialReference()\n",
      "outSpatialRef.ImportFromEPSG(4674)\n"
     ],
     "language": "python",
     "metadata": {},
     "outputs": [
      {
       "metadata": {},
       "output_type": "pyout",
       "prompt_number": 8,
       "text": [
        "0"
       ]
      }
     ],
     "prompt_number": 8
    },
    {
     "cell_type": "code",
     "collapsed": false,
     "input": [
      "# create the CoordinateTransformation\n",
      "coordTrans = osr.CoordinateTransformation(inSpatialRef, outSpatialRef)"
     ],
     "language": "python",
     "metadata": {},
     "outputs": [],
     "prompt_number": 9
    },
    {
     "cell_type": "code",
     "collapsed": false,
     "input": [
      "# get the input layer\n",
      "inDataSet = driver.Open(r'/home/luiz/Teste/ucstodas.shp')\n",
      "inLayer = inDataSet.GetLayer()"
     ],
     "language": "python",
     "metadata": {},
     "outputs": [],
     "prompt_number": 10
    },
    {
     "cell_type": "code",
     "collapsed": false,
     "input": [
      "# create the output layer\n",
      "outputShapefile = r'/home/luiz/Teste/basemap_4674.shp'\n",
      "if os.path.exists(outputShapefile):\n",
      "    driver.DeleteDataSource(outputShapefile)\n",
      "outDataSet = driver.CreateDataSource(outputShapefile)\n",
      "outLayer = outDataSet.CreateLayer(\"basemap_4674\", geom_type=ogr.wkbMultiPolygon)"
     ],
     "language": "python",
     "metadata": {},
     "outputs": [],
     "prompt_number": 11
    },
    {
     "cell_type": "code",
     "collapsed": false,
     "input": [
      "# add fields\n",
      "inLayerDefn = inLayer.GetLayerDefn()\n",
      "for i in range(0, inLayerDefn.GetFieldCount()):\n",
      "    fieldDefn = inLayerDefn.GetFieldDefn(i)\n",
      "    outLayer.CreateField(fieldDefn)\n"
     ],
     "language": "python",
     "metadata": {},
     "outputs": [],
     "prompt_number": 12
    },
    {
     "cell_type": "code",
     "collapsed": false,
     "input": [
      "# get the output layer's feature definition\n",
      "outLayerDefn = outLayer.GetLayerDefn()"
     ],
     "language": "python",
     "metadata": {},
     "outputs": [],
     "prompt_number": 13
    },
    {
     "cell_type": "code",
     "collapsed": false,
     "input": [
      "# loop through the input features\n",
      "inFeature = inLayer.GetNextFeature()\n",
      "while inFeature:\n",
      "    # get the input geometry\n",
      "    geom = inFeature.GetGeometryRef()\n",
      "    # reproject the geometry\n",
      "    geom.Transform(coordTrans)\n",
      "    # create a new feature\n",
      "    outFeature = ogr.Feature(outLayerDefn)\n",
      "    # set the geometry and attribute\n",
      "    outFeature.SetGeometry(geom)\n",
      "    for i in range(0, outLayerDefn.GetFieldCount()):\n",
      "        outFeature.SetField(outLayerDefn.GetFieldDefn(i).GetNameRef(), inFeature.GetField(i))\n",
      "    # add the feature to the shapefile\n",
      "    outLayer.CreateFeature(outFeature)\n",
      "    # destroy the features and get the next input feature\n",
      "    outFeature.Destroy()\n",
      "    inFeature.Destroy()\n",
      "    inFeature = inLayer.GetNextFeature()"
     ],
     "language": "python",
     "metadata": {},
     "outputs": [],
     "prompt_number": 14
    },
    {
     "cell_type": "code",
     "collapsed": false,
     "input": [
      "inDataSet.Destroy()\n",
      "outDataSet.Destroy()"
     ],
     "language": "python",
     "metadata": {},
     "outputs": [],
     "prompt_number": 15
    },
    {
     "cell_type": "code",
     "collapsed": false,
     "input": [],
     "language": "python",
     "metadata": {},
     "outputs": []
    }
   ],
   "metadata": {}
  }
 ]
}